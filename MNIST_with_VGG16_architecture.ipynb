{
  "nbformat": 4,
  "nbformat_minor": 0,
  "metadata": {
    "kernelspec": {
      "display_name": "Python 3",
      "language": "python",
      "name": "python3"
    },
    "language_info": {
      "codemirror_mode": {
        "name": "ipython",
        "version": 3
      },
      "file_extension": ".py",
      "mimetype": "text/x-python",
      "name": "python",
      "nbconvert_exporter": "python",
      "pygments_lexer": "ipython3",
      "version": "3.7.7"
    },
    "colab": {
      "name": "MNIST with VGG16 architecture.ipynb",
      "provenance": [],
      "collapsed_sections": []
    }
  },
  "cells": [
    {
      "cell_type": "markdown",
      "metadata": {
        "id": "MSWAipbM8Dh3",
        "colab_type": "text"
      },
      "source": [
        "# Classifier for the MNIST dataset with the VGG16 architecture"
      ]
    },
    {
      "cell_type": "markdown",
      "metadata": {
        "id": "4zMX2I8t8DiB",
        "colab_type": "text"
      },
      "source": [
        "Let's import the necessary libraries, the pre-trained model and the MNIST dataset."
      ]
    },
    {
      "cell_type": "code",
      "metadata": {
        "id": "PbkBtBlQ8DiF",
        "colab_type": "code",
        "colab": {}
      },
      "source": [
        "import pandas as pd\n",
        "import numpy as np\n",
        "import matplotlib.pyplot as plt\n",
        "from tensorflow.keras.utils import to_categorical\n",
        "from tensorflow.keras.models import Model\n",
        "from tensorflow.keras.layers import Dense, Flatten\n",
        "from tensorflow.keras.applications.vgg16 import VGG16\n",
        "from keras.applications.vgg16 import preprocess_input"
      ],
      "execution_count": 30,
      "outputs": []
    },
    {
      "cell_type": "code",
      "metadata": {
        "id": "DXQggXXURFRh",
        "colab_type": "code",
        "colab": {}
      },
      "source": [
        "from tensorflow.keras.datasets import mnist\n",
        "\n",
        "(x_train, y_train), (x_test, y_test) = mnist.load_data()"
      ],
      "execution_count": 31,
      "outputs": []
    },
    {
      "cell_type": "markdown",
      "metadata": {
        "id": "tSs72Buhn1w2",
        "colab_type": "text"
      },
      "source": [
        "Let's check the shape of the datasets."
      ]
    },
    {
      "cell_type": "code",
      "metadata": {
        "id": "i6yfvP9dn3q_",
        "colab_type": "code",
        "colab": {
          "base_uri": "https://localhost:8080/",
          "height": 51
        },
        "outputId": "98948af5-d562-45de-be95-7167b0c16d5c"
      },
      "source": [
        "print(\"Training data shape:\", x_train.shape) \n",
        "print(\"Test data shape:\", x_test.shape) \n",
        "\n",
        "# number of images, 28x28 pixels"
      ],
      "execution_count": 32,
      "outputs": [
        {
          "output_type": "stream",
          "text": [
            "Training data shape: (60000, 28, 28)\n",
            "Test data shape: (10000, 28, 28)\n"
          ],
          "name": "stdout"
        }
      ]
    },
    {
      "cell_type": "markdown",
      "metadata": {
        "id": "0SDijdjToHuS",
        "colab_type": "text"
      },
      "source": [
        "We can see how an example looks like."
      ]
    },
    {
      "cell_type": "code",
      "metadata": {
        "id": "3ettOC47oL0m",
        "colab_type": "code",
        "colab": {
          "base_uri": "https://localhost:8080/",
          "height": 282
        },
        "outputId": "8edc81b1-88a8-4629-8783-677230bb5e03"
      },
      "source": [
        "index = 4\n",
        "example_image = x_train[index]\n",
        "plt.imshow(example_image, cmap=plt.cm.gray)"
      ],
      "execution_count": 33,
      "outputs": [
        {
          "output_type": "execute_result",
          "data": {
            "text/plain": [
              "<matplotlib.image.AxesImage at 0x7fd34c3daa90>"
            ]
          },
          "metadata": {
            "tags": []
          },
          "execution_count": 33
        },
        {
          "output_type": "display_data",
          "data": {
            "image/png": "[encoded data removed]",
            "text/plain": [
              "<Figure size 432x288 with 1 Axes>"
            ]
          },
          "metadata": {
            "tags": [],
            "needs_background": "light"
          }
        }
      ]
    },
    {
      "cell_type": "markdown",
      "metadata": {
        "id": "P5Ql1r_coiVs",
        "colab_type": "text"
      },
      "source": [
        "## Preprocessing Data"
      ]
    },
    {
      "cell_type": "markdown",
      "metadata": {
        "id": "Z1wSoBmKosgY",
        "colab_type": "text"
      },
      "source": [
        "Let's check the labels."
      ]
    },
    {
      "cell_type": "code",
      "metadata": {
        "id": "JFXgPNIPn7we",
        "colab_type": "code",
        "colab": {
          "base_uri": "https://localhost:8080/",
          "height": 34
        },
        "outputId": "f38af6d2-bc93-4afa-84ef-a59997dc2248"
      },
      "source": [
        "y_train"
      ],
      "execution_count": 34,
      "outputs": [
        {
          "output_type": "execute_result",
          "data": {
            "text/plain": [
              "array([5, 0, 4, ..., 5, 6, 8], dtype=uint8)"
            ]
          },
          "metadata": {
            "tags": []
          },
          "execution_count": 34
        }
      ]
    },
    {
      "cell_type": "code",
      "metadata": {
        "id": "t80FA-jkowYD",
        "colab_type": "code",
        "colab": {
          "base_uri": "https://localhost:8080/",
          "height": 34
        },
        "outputId": "d2f9a676-df25-46ea-f581-19a2ba78db38"
      },
      "source": [
        "y_test"
      ],
      "execution_count": 35,
      "outputs": [
        {
          "output_type": "execute_result",
          "data": {
            "text/plain": [
              "array([7, 2, 1, ..., 4, 5, 6], dtype=uint8)"
            ]
          },
          "metadata": {
            "tags": []
          },
          "execution_count": 35
        }
      ]
    },
    {
      "cell_type": "code",
      "metadata": {
        "id": "fNrUIVCbo4b_",
        "colab_type": "code",
        "colab": {
          "base_uri": "https://localhost:8080/",
          "height": 51
        },
        "outputId": "36e9c404-84da-47e2-8ca2-99c09dd110dd"
      },
      "source": [
        "print(\"Training labels shape:\", y_train.shape) \n",
        "print(\"Test labels shape:\", y_test.shape)\n",
        "\n",
        "# category numbers for each image"
      ],
      "execution_count": 36,
      "outputs": [
        {
          "output_type": "stream",
          "text": [
            "Training labels shape: (60000,)\n",
            "Test labels shape: (10000,)\n"
          ],
          "name": "stdout"
        }
      ]
    },
    {
      "cell_type": "markdown",
      "metadata": {
        "id": "MLyF6MSVpEgN",
        "colab_type": "text"
      },
      "source": [
        "In order to feed these labels into the CNN and use them with categorical_crossentropy, we need to perform a conversion into categorical labels."
      ]
    },
    {
      "cell_type": "code",
      "metadata": {
        "id": "mJbmBcDHo37U",
        "colab_type": "code",
        "colab": {}
      },
      "source": [
        "y_cat_test = to_categorical(y_test) \n",
        "y_cat_train = to_categorical(y_train)\n",
        "\n",
        "# number of classes is inferred "
      ],
      "execution_count": 37,
      "outputs": []
    },
    {
      "cell_type": "code",
      "metadata": {
        "id": "kGIFCM7-o3eE",
        "colab_type": "code",
        "colab": {
          "base_uri": "https://localhost:8080/",
          "height": 136
        },
        "outputId": "07412e28-814f-4cd1-e98c-7ea575b55125"
      },
      "source": [
        "y_cat_test"
      ],
      "execution_count": 38,
      "outputs": [
        {
          "output_type": "execute_result",
          "data": {
            "text/plain": [
              "array([[0., 0., 0., ..., 1., 0., 0.],\n",
              "       [0., 0., 1., ..., 0., 0., 0.],\n",
              "       [0., 1., 0., ..., 0., 0., 0.],\n",
              "       ...,\n",
              "       [0., 0., 0., ..., 0., 0., 0.],\n",
              "       [0., 0., 0., ..., 0., 0., 0.],\n",
              "       [0., 0., 0., ..., 0., 0., 0.]], dtype=float32)"
            ]
          },
          "metadata": {
            "tags": []
          },
          "execution_count": 38
        }
      ]
    },
    {
      "cell_type": "markdown",
      "metadata": {
        "id": "Jf1UHwnKpc8w",
        "colab_type": "text"
      },
      "source": [
        "We need to resize the data as (32, 32, 3) images for the pre-trained VGG16 model. Here we use OpenCV to resize the images."
      ]
    },
    {
      "cell_type": "code",
      "metadata": {
        "id": "t_pK8G-0o29T",
        "colab_type": "code",
        "colab": {}
      },
      "source": [
        "import cv2"
      ],
      "execution_count": 39,
      "outputs": []
    },
    {
      "cell_type": "code",
      "metadata": {
        "id": "X4l39ZAqp0ac",
        "colab_type": "code",
        "colab": {}
      },
      "source": [
        "x_train = [cv2.cvtColor(cv2.resize(im,(32,32)), cv2.COLOR_GRAY2BGR) for im in x_train]\n",
        "x_train = np.concatenate([arr[np.newaxis] for arr in x_train]).astype('float32')\n",
        "\n",
        "x_test = [cv2.cvtColor(cv2.resize(im,(32,32)), cv2.COLOR_GRAY2BGR) for im in x_test]\n",
        "x_test = np.concatenate([arr[np.newaxis] for arr in x_test]).astype('float32')"
      ],
      "execution_count": 40,
      "outputs": []
    },
    {
      "cell_type": "markdown",
      "metadata": {
        "id": "YKuMsjvq1Nu0",
        "colab_type": "text"
      },
      "source": [
        "Each channel is populated by the same original grayscale values."
      ]
    },
    {
      "cell_type": "code",
      "metadata": {
        "id": "1-3bqxtiqokV",
        "colab_type": "code",
        "colab": {
          "base_uri": "https://localhost:8080/",
          "height": 51
        },
        "outputId": "cdb46e84-0eb7-4608-882c-614fb7d7ea7a"
      },
      "source": [
        "print(\"Training data shape:\", x_train.shape) \n",
        "print(\"Test data shape:\", x_test.shape)"
      ],
      "execution_count": 41,
      "outputs": [
        {
          "output_type": "stream",
          "text": [
            "Training data shape: (60000, 32, 32, 3)\n",
            "Test data shape: (10000, 32, 32, 3)\n"
          ],
          "name": "stdout"
        }
      ]
    },
    {
      "cell_type": "markdown",
      "metadata": {
        "id": "xdSjEYhZqnbY",
        "colab_type": "text"
      },
      "source": [
        "In order to preprocess *x_train, x_test* I cannot apply the function *preprocess_input* because the latter subtracts the ImageNet mean values [103.939, 116.779, 123.68]. "
      ]
    },
    {
      "cell_type": "markdown",
      "metadata": {
        "id": "OmDf3_154LE0",
        "colab_type": "text"
      },
      "source": [
        "Since I duplicated the grayscale values, this would introduce artificial differences between the channels. "
      ]
    },
    {
      "cell_type": "markdown",
      "metadata": {
        "id": "2HZ3viKI4ATz",
        "colab_type": "text"
      },
      "source": [
        "Instead I perform a standard normalization which I verified gives the best performance."
      ]
    },
    {
      "cell_type": "code",
      "metadata": {
        "id": "HNN9v51Zpz1n",
        "colab_type": "code",
        "colab": {}
      },
      "source": [
        "#x_train = preprocess_input(x_train)\n",
        "#x_test = preprocess_input(x_test)"
      ],
      "execution_count": 42,
      "outputs": []
    },
    {
      "cell_type": "code",
      "metadata": {
        "id": "yAST2zF5SnmH",
        "colab_type": "code",
        "colab": {}
      },
      "source": [
        "x_train = x_train/255\n",
        "x_test = x_test/255"
      ],
      "execution_count": 43,
      "outputs": []
    },
    {
      "cell_type": "markdown",
      "metadata": {
        "id": "M-upKuSXr9vm",
        "colab_type": "text"
      },
      "source": [
        "## Build the Model"
      ]
    },
    {
      "cell_type": "code",
      "metadata": {
        "id": "TVPDONV_ngdg",
        "colab_type": "code",
        "colab": {
          "base_uri": "https://localhost:8080/",
          "height": 935
        },
        "outputId": "e2e910b4-a1fb-4a30-e0b7-362e429bd4cf"
      },
      "source": [
        "#use the pre-trained weights from ImageNet and do not include the top layers\n",
        "model = VGG16(weights = 'imagenet', include_top=False, input_shape = (32, 32, 3)) \n",
        "\n",
        "#freeze all layers and train the custom layers only\n",
        "for layer in model.layers:\n",
        "    layer.trainable = False\n",
        "\n",
        "#add custom top layers \n",
        "x = model.output\n",
        "x = Flatten()(x)\n",
        "x = Dense(256, activation='relu')(x)\n",
        "x = Dense(256, activation='relu')(x)\n",
        "x = Dense(10, activation=\"softmax\")(x)\n",
        "\n",
        "#the final model \n",
        "my_model = Model(inputs = model.input, outputs = x)\n",
        "\n",
        "my_model.compile(loss = \"categorical_crossentropy\", optimizer = 'adam', metrics=[\"accuracy\"])\n",
        "\n",
        "my_model.summary()"
      ],
      "execution_count": 44,
      "outputs": [
        {
          "output_type": "stream",
          "text": [
            "Model: \"model_1\"\n",
            "_________________________________________________________________\n",
            "Layer (type)                 Output Shape              Param #   \n",
            "=================================================================\n",
            "input_2 (InputLayer)         [(None, 32, 32, 3)]       0         \n",
            "_________________________________________________________________\n",
            "block1_conv1 (Conv2D)        (None, 32, 32, 64)        1792      \n",
            "_________________________________________________________________\n",
            "block1_conv2 (Conv2D)        (None, 32, 32, 64)        36928     \n",
            "_________________________________________________________________\n",
            "block1_pool (MaxPooling2D)   (None, 16, 16, 64)        0         \n",
            "_________________________________________________________________\n",
            "block2_conv1 (Conv2D)        (None, 16, 16, 128)       73856     \n",
            "_________________________________________________________________\n",
            "block2_conv2 (Conv2D)        (None, 16, 16, 128)       147584    \n",
            "_________________________________________________________________\n",
            "block2_pool (MaxPooling2D)   (None, 8, 8, 128)         0         \n",
            "_________________________________________________________________\n",
            "block3_conv1 (Conv2D)        (None, 8, 8, 256)         295168    \n",
            "_________________________________________________________________\n",
            "block3_conv2 (Conv2D)        (None, 8, 8, 256)         590080    \n",
            "_________________________________________________________________\n",
            "block3_conv3 (Conv2D)        (None, 8, 8, 256)         590080    \n",
            "_________________________________________________________________\n",
            "block3_pool (MaxPooling2D)   (None, 4, 4, 256)         0         \n",
            "_________________________________________________________________\n",
            "block4_conv1 (Conv2D)        (None, 4, 4, 512)         1180160   \n",
            "_________________________________________________________________\n",
            "block4_conv2 (Conv2D)        (None, 4, 4, 512)         2359808   \n",
            "_________________________________________________________________\n",
            "block4_conv3 (Conv2D)        (None, 4, 4, 512)         2359808   \n",
            "_________________________________________________________________\n",
            "block4_pool (MaxPooling2D)   (None, 2, 2, 512)         0         \n",
            "_________________________________________________________________\n",
            "block5_conv1 (Conv2D)        (None, 2, 2, 512)         2359808   \n",
            "_________________________________________________________________\n",
            "block5_conv2 (Conv2D)        (None, 2, 2, 512)         2359808   \n",
            "_________________________________________________________________\n",
            "block5_conv3 (Conv2D)        (None, 2, 2, 512)         2359808   \n",
            "_________________________________________________________________\n",
            "block5_pool (MaxPooling2D)   (None, 1, 1, 512)         0         \n",
            "_________________________________________________________________\n",
            "flatten_1 (Flatten)          (None, 512)               0         \n",
            "_________________________________________________________________\n",
            "dense_3 (Dense)              (None, 256)               131328    \n",
            "_________________________________________________________________\n",
            "dense_4 (Dense)              (None, 256)               65792     \n",
            "_________________________________________________________________\n",
            "dense_5 (Dense)              (None, 10)                2570      \n",
            "=================================================================\n",
            "Total params: 14,914,378\n",
            "Trainable params: 199,690\n",
            "Non-trainable params: 14,714,688\n",
            "_________________________________________________________________\n"
          ],
          "name": "stdout"
        }
      ]
    },
    {
      "cell_type": "markdown",
      "metadata": {
        "id": "KJrw8rMKtZWF",
        "colab_type": "text"
      },
      "source": [
        "## Train the Model"
      ]
    },
    {
      "cell_type": "markdown",
      "metadata": {
        "id": "NLe8GYfztasu",
        "colab_type": "text"
      },
      "source": [
        "Let's introduce an early stopping callback."
      ]
    },
    {
      "cell_type": "code",
      "metadata": {
        "id": "gjURqx9r1r3k",
        "colab_type": "code",
        "colab": {}
      },
      "source": [
        "from tensorflow.keras.callbacks import EarlyStopping\n",
        "early_stop = EarlyStopping(monitor='val_loss', patience=2)"
      ],
      "execution_count": 45,
      "outputs": []
    },
    {
      "cell_type": "code",
      "metadata": {
        "id": "-l3INgUN1rcT",
        "colab_type": "code",
        "colab": {
          "base_uri": "https://localhost:8080/",
          "height": 374
        },
        "outputId": "d560c28f-5d50-4e92-bdbc-38eb4b51a19d"
      },
      "source": [
        "my_model.fit(x_train, y_cat_train, batch_size=64, epochs=10, validation_data=(x_test,y_cat_test), callbacks=[early_stop]) "
      ],
      "execution_count": 46,
      "outputs": [
        {
          "output_type": "stream",
          "text": [
            "Epoch 1/10\n",
            "938/938 [==============================] - 485s 518ms/step - loss: 0.2874 - accuracy: 0.9094 - val_loss: 0.1602 - val_accuracy: 0.9463\n",
            "Epoch 2/10\n",
            "938/938 [==============================] - 489s 521ms/step - loss: 0.1307 - accuracy: 0.9586 - val_loss: 0.1041 - val_accuracy: 0.9654\n",
            "Epoch 3/10\n",
            "938/938 [==============================] - 489s 522ms/step - loss: 0.1111 - accuracy: 0.9638 - val_loss: 0.1005 - val_accuracy: 0.9671\n",
            "Epoch 4/10\n",
            "938/938 [==============================] - 489s 521ms/step - loss: 0.0962 - accuracy: 0.9680 - val_loss: 0.0912 - val_accuracy: 0.9694\n",
            "Epoch 5/10\n",
            "938/938 [==============================] - 487s 520ms/step - loss: 0.0866 - accuracy: 0.9709 - val_loss: 0.0902 - val_accuracy: 0.9699\n",
            "Epoch 6/10\n",
            "938/938 [==============================] - 485s 517ms/step - loss: 0.0782 - accuracy: 0.9746 - val_loss: 0.1654 - val_accuracy: 0.9427\n",
            "Epoch 7/10\n",
            "938/938 [==============================] - 490s 522ms/step - loss: 0.0738 - accuracy: 0.9757 - val_loss: 0.0899 - val_accuracy: 0.9704\n",
            "Epoch 8/10\n",
            "938/938 [==============================] - 491s 523ms/step - loss: 0.0673 - accuracy: 0.9777 - val_loss: 0.0780 - val_accuracy: 0.9759\n",
            "Epoch 9/10\n",
            "938/938 [==============================] - 489s 521ms/step - loss: 0.0651 - accuracy: 0.9779 - val_loss: 0.0902 - val_accuracy: 0.9726\n",
            "Epoch 10/10\n",
            "938/938 [==============================] - 488s 521ms/step - loss: 0.0595 - accuracy: 0.9793 - val_loss: 0.0752 - val_accuracy: 0.9769\n"
          ],
          "name": "stdout"
        },
        {
          "output_type": "execute_result",
          "data": {
            "text/plain": [
              "<tensorflow.python.keras.callbacks.History at 0x7fd34c32e550>"
            ]
          },
          "metadata": {
            "tags": []
          },
          "execution_count": 46
        }
      ]
    },
    {
      "cell_type": "markdown",
      "metadata": {
        "id": "EcwcYVc2txfr",
        "colab_type": "text"
      },
      "source": [
        "## Evaluate the Model"
      ]
    },
    {
      "cell_type": "markdown",
      "metadata": {
        "id": "ITbNWx_1tykK",
        "colab_type": "text"
      },
      "source": [
        "We create a dataframe for the losses and accuracies and then plot them."
      ]
    },
    {
      "cell_type": "code",
      "metadata": {
        "id": "qOu4lFoX2BOV",
        "colab_type": "code",
        "colab": {}
      },
      "source": [
        "loss_acc = pd.DataFrame(my_model.history.history)"
      ],
      "execution_count": 47,
      "outputs": []
    },
    {
      "cell_type": "code",
      "metadata": {
        "id": "41XTJIsp2A3d",
        "colab_type": "code",
        "colab": {
          "base_uri": "https://localhost:8080/",
          "height": 296
        },
        "outputId": "2f7b5b56-7318-4486-ebb6-8584b35da1d6"
      },
      "source": [
        "loss_acc[['accuracy','val_accuracy']].plot()\n",
        "plt.xlabel('Epochs')\n",
        "plt.xlim(0,9)"
      ],
      "execution_count": 49,
      "outputs": [
        {
          "output_type": "execute_result",
          "data": {
            "text/plain": [
              "(0.0, 9.0)"
            ]
          },
          "metadata": {
            "tags": []
          },
          "execution_count": 49
        },
        {
          "output_type": "display_data",
          "data": {
            "image/png": "[encoded data removed]",
            "text/plain": [
              "<Figure size 432x288 with 1 Axes>"
            ]
          },
          "metadata": {
            "tags": [],
            "needs_background": "light"
          }
        }
      ]
    },
    {
      "cell_type": "code",
      "metadata": {
        "id": "QZRuGYvxMMei",
        "colab_type": "code",
        "colab": {
          "base_uri": "https://localhost:8080/",
          "height": 296
        },
        "outputId": "3750eee0-deb3-4e07-945d-92cc51454eb1"
      },
      "source": [
        "loss_acc[['loss','val_loss']].plot()\n",
        "plt.xlabel('Epochs')\n",
        "plt.xlim(0,9)"
      ],
      "execution_count": 50,
      "outputs": [
        {
          "output_type": "execute_result",
          "data": {
            "text/plain": [
              "(0.0, 9.0)"
            ]
          },
          "metadata": {
            "tags": []
          },
          "execution_count": 50
        },
        {
          "output_type": "display_data",
          "data": {
            "image/png": "[encoded data removed]",
            "text/plain": [
              "<Figure size 432x288 with 1 Axes>"
            ]
          },
          "metadata": {
            "tags": [],
            "needs_background": "light"
          }
        }
      ]
    },
    {
      "cell_type": "code",
      "metadata": {
        "id": "qfuB_M5LML29",
        "colab_type": "code",
        "colab": {
          "base_uri": "https://localhost:8080/",
          "height": 51
        },
        "outputId": "6934a254-98f2-4b8b-eb39-d831a58ccf1a"
      },
      "source": [
        "print(my_model.metrics_names)\n",
        "print(my_model.evaluate(x_test,y_cat_test,verbose=0)) "
      ],
      "execution_count": 51,
      "outputs": [
        {
          "output_type": "stream",
          "text": [
            "['loss', 'accuracy']\n",
            "[0.07517494261264801, 0.9768999814987183]\n"
          ],
          "name": "stdout"
        }
      ]
    },
    {
      "cell_type": "markdown",
      "metadata": {
        "id": "nwpUMwOWuZY2",
        "colab_type": "text"
      },
      "source": [
        "Let's explore more metrics from *sklearn.metrics*."
      ]
    },
    {
      "cell_type": "code",
      "metadata": {
        "id": "zAwaa_LjMSU-",
        "colab_type": "code",
        "colab": {}
      },
      "source": [
        "from sklearn.metrics import classification_report,confusion_matrix"
      ],
      "execution_count": 52,
      "outputs": []
    },
    {
      "cell_type": "code",
      "metadata": {
        "id": "qEC9BA0VMU2N",
        "colab_type": "code",
        "colab": {}
      },
      "source": [
        "y_prob = my_model.predict(x_test) \n",
        "predictions = y_prob.argmax(axis=-1)"
      ],
      "execution_count": 53,
      "outputs": []
    },
    {
      "cell_type": "code",
      "metadata": {
        "id": "FvGN9d0IMYO4",
        "colab_type": "code",
        "colab": {
          "base_uri": "https://localhost:8080/",
          "height": 306
        },
        "outputId": "37f0d214-8233-478c-c914-d82ca8625630"
      },
      "source": [
        "print(classification_report(y_test,predictions))"
      ],
      "execution_count": 54,
      "outputs": [
        {
          "output_type": "stream",
          "text": [
            "              precision    recall  f1-score   support\n",
            "\n",
            "           0       0.98      0.99      0.99       980\n",
            "           1       0.99      1.00      0.99      1135\n",
            "           2       0.97      0.97      0.97      1032\n",
            "           3       0.98      0.98      0.98      1010\n",
            "           4       0.96      0.99      0.97       982\n",
            "           5       0.98      0.96      0.97       892\n",
            "           6       0.99      0.97      0.98       958\n",
            "           7       0.97      0.97      0.97      1028\n",
            "           8       0.97      0.98      0.97       974\n",
            "           9       0.98      0.97      0.97      1009\n",
            "\n",
            "    accuracy                           0.98     10000\n",
            "   macro avg       0.98      0.98      0.98     10000\n",
            "weighted avg       0.98      0.98      0.98     10000\n",
            "\n"
          ],
          "name": "stdout"
        }
      ]
    },
    {
      "cell_type": "markdown",
      "metadata": {
        "id": "8-X4Q3vjurik",
        "colab_type": "text"
      },
      "source": [
        "We see that our model performs pretty well across all the categories. "
      ]
    },
    {
      "cell_type": "markdown",
      "metadata": {
        "id": "kPIKtu2wvdFY",
        "colab_type": "text"
      },
      "source": [
        "We can also have a more visual understanding of the performances of the model by plotting the heatmap of the confusion matrix."
      ]
    },
    {
      "cell_type": "code",
      "metadata": {
        "id": "tsuWzdW7vvjz",
        "colab_type": "code",
        "colab": {
          "base_uri": "https://localhost:8080/",
          "height": 391
        },
        "outputId": "15f807e5-6937-420b-aeae-f4d0c841fb22"
      },
      "source": [
        "import seaborn as sns\n",
        "\n",
        "plt.figure(figsize=(10,6))\n",
        "sns.heatmap(confusion_matrix(y_test,predictions),annot=True)"
      ],
      "execution_count": 55,
      "outputs": [
        {
          "output_type": "execute_result",
          "data": {
            "text/plain": [
              "<matplotlib.axes._subplots.AxesSubplot at 0x7fd348f98f28>"
            ]
          },
          "metadata": {
            "tags": []
          },
          "execution_count": 55
        },
        {
          "output_type": "display_data",
          "data": {
            "image/png": "[encoded data removed]",
            "text/plain": [
              "<Figure size 720x432 with 2 Axes>"
            ]
          },
          "metadata": {
            "tags": [],
            "needs_background": "light"
          }
        }
      ]
    },
    {
      "cell_type": "markdown",
      "metadata": {
        "id": "cNhk-guLv6Hx",
        "colab_type": "text"
      },
      "source": [
        "## Predict a given image"
      ]
    },
    {
      "cell_type": "markdown",
      "metadata": {
        "id": "zn_uH9xPwBu9",
        "colab_type": "text"
      },
      "source": [
        "To see how one can predict a given image, we use a random example from *x_test*."
      ]
    },
    {
      "cell_type": "code",
      "metadata": {
        "id": "phVnLJFTvxhY",
        "colab_type": "code",
        "colab": {
          "base_uri": "https://localhost:8080/",
          "height": 283
        },
        "outputId": "3f42c4a1-14a0-42c7-a86e-6b66250528f9"
      },
      "source": [
        "import random\n",
        "example_index = random.randint(0,9999)\n",
        "my_number = x_test[example_index]\n",
        "plt.imshow(my_number)"
      ],
      "execution_count": 56,
      "outputs": [
        {
          "output_type": "execute_result",
          "data": {
            "text/plain": [
              "<matplotlib.image.AxesImage at 0x7fd348e61a90>"
            ]
          },
          "metadata": {
            "tags": []
          },
          "execution_count": 56
        },
        {
          "output_type": "display_data",
          "data": {
            "image/png": "[encoded data removed]",
            "text/plain": [
              "<Figure size 432x288 with 1 Axes>"
            ]
          },
          "metadata": {
            "tags": [],
            "needs_background": "light"
          }
        }
      ]
    },
    {
      "cell_type": "code",
      "metadata": {
        "id": "sJe2rn8HwWGf",
        "colab_type": "code",
        "colab": {
          "base_uri": "https://localhost:8080/",
          "height": 34
        },
        "outputId": "7b317c0f-00bd-4471-866c-832a0c29bfd9"
      },
      "source": [
        "y_prob = my_model.predict(x_test[example_index].reshape(1,32,32,3))\n",
        "y_prob.argmax(axis=-1)"
      ],
      "execution_count": 57,
      "outputs": [
        {
          "output_type": "execute_result",
          "data": {
            "text/plain": [
              "array([5])"
            ]
          },
          "metadata": {
            "tags": []
          },
          "execution_count": 57
        }
      ]
    },
    {
      "cell_type": "markdown",
      "metadata": {
        "id": "BfJPUmgewYsG",
        "colab_type": "text"
      },
      "source": [
        "Our model correctly classifies the image!"
      ]
    }
  ]
}